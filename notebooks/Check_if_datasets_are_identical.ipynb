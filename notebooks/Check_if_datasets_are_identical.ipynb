{
 "cells": [
  {
   "cell_type": "markdown",
   "id": "cdd710ef",
   "metadata": {},
   "source": [
    "# 1. Short research\n",
    "\n",
    "## Tutorials\n",
    "- [Good and short explanation of the Brazilian court system](https://www.brazilcounsel.com/blog/understanding-the-structure-of-the-brazilian-court-system)\n",
    "- [Another good description](https://www.brasildefato.com.br/2018/01/19/what-is-the-structure-of-brazilian-judicial-branch)\n",
    "\n",
    "\n",
    "## Our data from the R script\n",
    "- The data that we scraped with [these R scripts](https://github.com/jjesusfilho) come from the [TJSP page](https://esaj.tjsp.jus.br/cjsg/consultaCompleta.do?f=1) which is *Tribunal de Justiça (TJ) in São Paulo* , i.e. these are **state courts** of appeals that hear civil, family and criminal cases.\n",
    "     - *\"The highest court of a state judicial system is the Court of Justice (Portuguese: Tribunal de Justiça). EachBrazilian state has only one Court of Justice, headquartered in the State's capital, functioning mostly as an appellate court. Second instance judgments are usually rendered by three judges, called desembargadores, however in specific cases the decision may be made by a single Judge.[24] Large courts are usually divided into different sections, specialized by subject matter\"* [Wikipedia](https://en.wikipedia.org/wiki/Judiciary_of_Brazil)\n",
    "  - We hae only *cjpg* , i.e. consultation of **first-degree judges** , it basically downloads data from the [database of sentences](http://esaj.tjsp.jus.br/cjpg/) .\n",
    "  \n",
    "  \n",
    "  \n",
    "## BrCAD-5\n",
    "- The other dataset [BrCAD-5](https://www.kaggle.com/datasets/eliasjacob/brcad5) comes from Brazilian Federal Small Claims Courts (FSCC) within the 5th Regional **Federal Court** (TRF5) jurisdiction\n",
    " - TRF5 covers Northeast Brazil, see [map](https://pt.wikipedia.org/wiki/Tribunais_Regionais_Federais). Sao Paolo lies outside this region.\n",
    " \n",
    "\n",
    "## Conclusion\n",
    "- Since Sao Paolo is not part of the region of TRF5, according to my understanding, there is no way that the data that we scraped with the [R script](https://github.com/jjesusfilho) are the same as the data from [BrCAD-5](https://www.kaggle.com/datasets/eliasjacob/brcad5)\n",
    "- A quick comparison below does not reveal any overlapping"
   ]
  },
  {
   "cell_type": "code",
   "execution_count": 1,
   "id": "483ff48d",
   "metadata": {},
   "outputs": [],
   "source": [
    "import os\n",
    "import pandas as pd\n",
    "from pathlib import Path"
   ]
  },
  {
   "cell_type": "markdown",
   "id": "34884524",
   "metadata": {},
   "source": [
    "# 2. Loading the data"
   ]
  },
  {
   "cell_type": "markdown",
   "id": "c60f92cc",
   "metadata": {},
   "source": [
    "- Brazilian court decisions scraped by us\n",
    "- I do not load everything into memory, because it is too much"
   ]
  },
  {
   "cell_type": "code",
   "execution_count": 2,
   "id": "8a91e6ec",
   "metadata": {},
   "outputs": [],
   "source": [
    "_path = '/Users/vetonmatoshi/Library/CloudStorage/OneDrive-BernerFachhochschule/Datensaetze_Pretraining/brazilian_caselaw/results_as_json'\n",
    "_path = Path(_path)\n",
    "all_data = list()\n",
    "c = 0\n",
    "for p in _path.glob('**/*'):\n",
    "    if c < 2:\n",
    "        df = pd.read_json(p, lines=True)\n",
    "        all_data.append(df)\n",
    "        c += 1\n",
    "    else:\n",
    "        break\n",
    "\n",
    "all_data = pd.concat(all_data)\n"
   ]
  },
  {
   "cell_type": "code",
   "execution_count": null,
   "id": "c96e1c0b",
   "metadata": {},
   "outputs": [],
   "source": []
  },
  {
   "cell_type": "code",
   "execution_count": 3,
   "id": "ab041963",
   "metadata": {},
   "outputs": [
    {
     "data": {
      "text/plain": [
       "(2880227, 13)"
      ]
     },
     "execution_count": 3,
     "metadata": {},
     "output_type": "execute_result"
    }
   ],
   "source": [
    "all_data.shape"
   ]
  },
  {
   "cell_type": "code",
   "execution_count": 4,
   "id": "f399508c",
   "metadata": {
    "scrolled": true
   },
   "outputs": [
    {
     "data": {
      "text/html": [
       "<div>\n",
       "<style scoped>\n",
       "    .dataframe tbody tr th:only-of-type {\n",
       "        vertical-align: middle;\n",
       "    }\n",
       "\n",
       "    .dataframe tbody tr th {\n",
       "        vertical-align: top;\n",
       "    }\n",
       "\n",
       "    .dataframe thead th {\n",
       "        text-align: right;\n",
       "    }\n",
       "</style>\n",
       "<table border=\"1\" class=\"dataframe\">\n",
       "  <thead>\n",
       "    <tr style=\"text-align: right;\">\n",
       "      <th></th>\n",
       "      <th>processo</th>\n",
       "      <th>pagina</th>\n",
       "      <th>hora_coleta</th>\n",
       "      <th>duplicado</th>\n",
       "      <th>classe</th>\n",
       "      <th>assunto</th>\n",
       "      <th>magistrado</th>\n",
       "      <th>comarca</th>\n",
       "      <th>foro</th>\n",
       "      <th>vara</th>\n",
       "      <th>disponibilizacao</th>\n",
       "      <th>julgado</th>\n",
       "      <th>cd_doc</th>\n",
       "    </tr>\n",
       "  </thead>\n",
       "  <tbody>\n",
       "    <tr>\n",
       "      <th>0</th>\n",
       "      <td>1.007337e+19</td>\n",
       "      <td>1</td>\n",
       "      <td>NA</td>\n",
       "      <td>False</td>\n",
       "      <td>Procedimento Comum Cível</td>\n",
       "      <td>Interpretação / Revisão de Contrato</td>\n",
       "      <td>Lincoln Antônio Andrade de Moura</td>\n",
       "      <td>Guarulhos</td>\n",
       "      <td>Foro de Guarulhos</td>\n",
       "      <td>10ª Vara Cível</td>\n",
       "      <td>16454</td>\n",
       "      <td>TRIBUNAL DE JUSTIÇA DO ESTADO DE SÃO PAULO COM...</td>\n",
       "      <td>68000780E0000-224-PG5GRU-19843231</td>\n",
       "    </tr>\n",
       "    <tr>\n",
       "      <th>1</th>\n",
       "      <td>4.023716e+19</td>\n",
       "      <td>1</td>\n",
       "      <td>NA</td>\n",
       "      <td>False</td>\n",
       "      <td>Procedimento Comum Cível</td>\n",
       "      <td>Acidente de Trânsito</td>\n",
       "      <td>Lincoln Antônio Andrade de Moura</td>\n",
       "      <td>Guarulhos</td>\n",
       "      <td>Foro de Guarulhos</td>\n",
       "      <td>10ª Vara Cível</td>\n",
       "      <td>16454</td>\n",
       "      <td>TRIBUNAL DE JUSTIÇA DO ESTADO DE SÃO PAULO COM...</td>\n",
       "      <td>680005FQG0000-224-PG5GRU-19843173</td>\n",
       "    </tr>\n",
       "    <tr>\n",
       "      <th>2</th>\n",
       "      <td>4.019649e+19</td>\n",
       "      <td>1</td>\n",
       "      <td>NA</td>\n",
       "      <td>False</td>\n",
       "      <td>Procedimento Comum Cível</td>\n",
       "      <td>Indenização por Dano Moral</td>\n",
       "      <td>Lincoln Antônio Andrade de Moura</td>\n",
       "      <td>Guarulhos</td>\n",
       "      <td>Foro de Guarulhos</td>\n",
       "      <td>10ª Vara Cível</td>\n",
       "      <td>16454</td>\n",
       "      <td>TRIBUNAL DE JUSTIÇA DO ESTADO DE SÃO PAULO COM...</td>\n",
       "      <td>680002DH00000-224-PG5GRU-19843122</td>\n",
       "    </tr>\n",
       "    <tr>\n",
       "      <th>3</th>\n",
       "      <td>4.005510e+19</td>\n",
       "      <td>1</td>\n",
       "      <td>NA</td>\n",
       "      <td>False</td>\n",
       "      <td>Procedimento Comum Cível</td>\n",
       "      <td>Ato / Negócio Jurídico</td>\n",
       "      <td>Lincoln Antônio Andrade de Moura</td>\n",
       "      <td>Guarulhos</td>\n",
       "      <td>Foro de Guarulhos</td>\n",
       "      <td>10ª Vara Cível</td>\n",
       "      <td>16454</td>\n",
       "      <td>TRIBUNAL DE JUSTIÇA DO ESTADO DE SÃO PAULO COM...</td>\n",
       "      <td>680000HYK0000-224-PG5GRU-19843080</td>\n",
       "    </tr>\n",
       "    <tr>\n",
       "      <th>4</th>\n",
       "      <td>4.033468e+19</td>\n",
       "      <td>1</td>\n",
       "      <td>NA</td>\n",
       "      <td>False</td>\n",
       "      <td>Procedimento Comum Cível</td>\n",
       "      <td>Direitos / Deveres do Condômino</td>\n",
       "      <td>Lincoln Antônio Andrade de Moura</td>\n",
       "      <td>Guarulhos</td>\n",
       "      <td>Foro de Guarulhos</td>\n",
       "      <td>10ª Vara Cível</td>\n",
       "      <td>16454</td>\n",
       "      <td>TRIBUNAL DE JUSTIÇA DO ESTADO DE SÃO PAULO COM...</td>\n",
       "      <td>680006EPW0000-224-PG5GRU-19843029</td>\n",
       "    </tr>\n",
       "  </tbody>\n",
       "</table>\n",
       "</div>"
      ],
      "text/plain": [
       "       processo  pagina hora_coleta  duplicado                    classe  \\\n",
       "0  1.007337e+19       1          NA      False  Procedimento Comum Cível   \n",
       "1  4.023716e+19       1          NA      False  Procedimento Comum Cível   \n",
       "2  4.019649e+19       1          NA      False  Procedimento Comum Cível   \n",
       "3  4.005510e+19       1          NA      False  Procedimento Comum Cível   \n",
       "4  4.033468e+19       1          NA      False  Procedimento Comum Cível   \n",
       "\n",
       "                               assunto                        magistrado  \\\n",
       "0  Interpretação / Revisão de Contrato  Lincoln Antônio Andrade de Moura   \n",
       "1                 Acidente de Trânsito  Lincoln Antônio Andrade de Moura   \n",
       "2           Indenização por Dano Moral  Lincoln Antônio Andrade de Moura   \n",
       "3               Ato / Negócio Jurídico  Lincoln Antônio Andrade de Moura   \n",
       "4      Direitos / Deveres do Condômino  Lincoln Antônio Andrade de Moura   \n",
       "\n",
       "     comarca               foro            vara  disponibilizacao  \\\n",
       "0  Guarulhos  Foro de Guarulhos  10ª Vara Cível             16454   \n",
       "1  Guarulhos  Foro de Guarulhos  10ª Vara Cível             16454   \n",
       "2  Guarulhos  Foro de Guarulhos  10ª Vara Cível             16454   \n",
       "3  Guarulhos  Foro de Guarulhos  10ª Vara Cível             16454   \n",
       "4  Guarulhos  Foro de Guarulhos  10ª Vara Cível             16454   \n",
       "\n",
       "                                             julgado  \\\n",
       "0  TRIBUNAL DE JUSTIÇA DO ESTADO DE SÃO PAULO COM...   \n",
       "1  TRIBUNAL DE JUSTIÇA DO ESTADO DE SÃO PAULO COM...   \n",
       "2  TRIBUNAL DE JUSTIÇA DO ESTADO DE SÃO PAULO COM...   \n",
       "3  TRIBUNAL DE JUSTIÇA DO ESTADO DE SÃO PAULO COM...   \n",
       "4  TRIBUNAL DE JUSTIÇA DO ESTADO DE SÃO PAULO COM...   \n",
       "\n",
       "                              cd_doc  \n",
       "0  68000780E0000-224-PG5GRU-19843231  \n",
       "1  680005FQG0000-224-PG5GRU-19843173  \n",
       "2  680002DH00000-224-PG5GRU-19843122  \n",
       "3  680000HYK0000-224-PG5GRU-19843080  \n",
       "4  680006EPW0000-224-PG5GRU-19843029  "
      ]
     },
     "execution_count": 4,
     "metadata": {},
     "output_type": "execute_result"
    }
   ],
   "source": [
    "all_data.head()"
   ]
  },
  {
   "cell_type": "markdown",
   "id": "69e807a4",
   "metadata": {},
   "source": [
    "- Brazilian court decisions from [BrCAD-5](https://www.kaggle.com/datasets/eliasjacob/brcad5)"
   ]
  },
  {
   "cell_type": "code",
   "execution_count": 5,
   "id": "86825375",
   "metadata": {},
   "outputs": [
    {
     "data": {
      "text/plain": [
       "['human_experts_data.csv',\n",
       " 'pretrained_models',\n",
       " 'language_modeling_texts.parquet',\n",
       " 'valid_en.parquet',\n",
       " 'expert_label_identification.csv',\n",
       " 'humans_en.parquet',\n",
       " 'train_en.parquet',\n",
       " 'test_en.parquet']"
      ]
     },
     "execution_count": 5,
     "metadata": {},
     "output_type": "execute_result"
    }
   ],
   "source": [
    "os.listdir('./archive/')"
   ]
  },
  {
   "cell_type": "code",
   "execution_count": 6,
   "id": "96c108da",
   "metadata": {},
   "outputs": [],
   "source": [
    "brcad = pd.read_parquet('./archive/language_modeling_texts.parquet', engine='pyarrow')\n"
   ]
  },
  {
   "cell_type": "code",
   "execution_count": 7,
   "id": "0a7851c6",
   "metadata": {},
   "outputs": [
    {
     "data": {
      "text/plain": [
       "(3128292, 2)"
      ]
     },
     "execution_count": 7,
     "metadata": {},
     "output_type": "execute_result"
    }
   ],
   "source": [
    "brcad.shape"
   ]
  },
  {
   "cell_type": "code",
   "execution_count": 8,
   "id": "425a300d",
   "metadata": {},
   "outputs": [
    {
     "data": {
      "text/html": [
       "<div>\n",
       "<style scoped>\n",
       "    .dataframe tbody tr th:only-of-type {\n",
       "        vertical-align: middle;\n",
       "    }\n",
       "\n",
       "    .dataframe tbody tr th {\n",
       "        vertical-align: top;\n",
       "    }\n",
       "\n",
       "    .dataframe thead th {\n",
       "        text-align: right;\n",
       "    }\n",
       "</style>\n",
       "<table border=\"1\" class=\"dataframe\">\n",
       "  <thead>\n",
       "    <tr style=\"text-align: right;\">\n",
       "      <th></th>\n",
       "      <th>case_number</th>\n",
       "      <th>full_text_first_instance_court_ruling</th>\n",
       "    </tr>\n",
       "  </thead>\n",
       "  <tbody>\n",
       "    <tr>\n",
       "      <th>0</th>\n",
       "      <td>0519514-80.2010.4.05.8300</td>\n",
       "      <td>SENTENÇA Homologo o acordo celebrado pelas par...</td>\n",
       "    </tr>\n",
       "    <tr>\n",
       "      <th>1</th>\n",
       "      <td>0502940-39.2011.4.05.8302</td>\n",
       "      <td>SENTENÇA A parte autora pleiteia a revisão da ...</td>\n",
       "    </tr>\n",
       "    <tr>\n",
       "      <th>2</th>\n",
       "      <td>0514951-09.2011.4.05.8300</td>\n",
       "      <td>SENTENÇA Cuida a hipótese de ação especial cív...</td>\n",
       "    </tr>\n",
       "    <tr>\n",
       "      <th>3</th>\n",
       "      <td>0508179-48.2016.4.05.8302</td>\n",
       "      <td>SENTENÇA I – RELATÓRIO Trata-se de ação especi...</td>\n",
       "    </tr>\n",
       "    <tr>\n",
       "      <th>4</th>\n",
       "      <td>0501738-37.2005.4.05.8302</td>\n",
       "      <td>SENTENÇA Trata-se de ação proposta em face do ...</td>\n",
       "    </tr>\n",
       "  </tbody>\n",
       "</table>\n",
       "</div>"
      ],
      "text/plain": [
       "                 case_number  \\\n",
       "0  0519514-80.2010.4.05.8300   \n",
       "1  0502940-39.2011.4.05.8302   \n",
       "2  0514951-09.2011.4.05.8300   \n",
       "3  0508179-48.2016.4.05.8302   \n",
       "4  0501738-37.2005.4.05.8302   \n",
       "\n",
       "               full_text_first_instance_court_ruling  \n",
       "0  SENTENÇA Homologo o acordo celebrado pelas par...  \n",
       "1  SENTENÇA A parte autora pleiteia a revisão da ...  \n",
       "2  SENTENÇA Cuida a hipótese de ação especial cív...  \n",
       "3  SENTENÇA I – RELATÓRIO Trata-se de ação especi...  \n",
       "4  SENTENÇA Trata-se de ação proposta em face do ...  "
      ]
     },
     "execution_count": 8,
     "metadata": {},
     "output_type": "execute_result"
    }
   ],
   "source": [
    "brcad.head()"
   ]
  },
  {
   "cell_type": "markdown",
   "id": "5c7e9238",
   "metadata": {},
   "source": [
    "# 3. Compare"
   ]
  },
  {
   "cell_type": "code",
   "execution_count": 9,
   "id": "a772349b",
   "metadata": {
    "scrolled": true
   },
   "outputs": [
    {
     "data": {
      "text/plain": [
       "set()"
      ]
     },
     "execution_count": 9,
     "metadata": {},
     "output_type": "execute_result"
    }
   ],
   "source": [
    "set(all_data.julgado).intersection(set(brcad.full_text_first_instance_court_ruling))"
   ]
  },
  {
   "cell_type": "markdown",
   "id": "54e3e6d3",
   "metadata": {},
   "source": [
    "- No overlap"
   ]
  },
  {
   "cell_type": "code",
   "execution_count": null,
   "id": "9ddb1756",
   "metadata": {},
   "outputs": [],
   "source": []
  }
 ],
 "metadata": {
  "kernelspec": {
   "display_name": "Python 3 (ipykernel)",
   "language": "python",
   "name": "python3"
  },
  "language_info": {
   "codemirror_mode": {
    "name": "ipython",
    "version": 3
   },
   "file_extension": ".py",
   "mimetype": "text/x-python",
   "name": "python",
   "nbconvert_exporter": "python",
   "pygments_lexer": "ipython3",
   "version": "3.9.15"
  }
 },
 "nbformat": 4,
 "nbformat_minor": 5
}

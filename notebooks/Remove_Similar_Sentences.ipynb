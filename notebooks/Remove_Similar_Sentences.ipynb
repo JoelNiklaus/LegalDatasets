{
 "cells": [
  {
   "cell_type": "markdown",
   "id": "6da91193",
   "metadata": {},
   "source": [
    "- Removal of similar sentences can be done with the built-in library difflib\n"
   ]
  },
  {
   "cell_type": "code",
   "execution_count": 48,
   "id": "57bfbbac",
   "metadata": {},
   "outputs": [],
   "source": [
    "import pandas as pd\n",
    "import difflib\n",
    "from tqdm import tqdm\n",
    "from copy import deepcopy\n",
    "\n",
    "tqdm.pandas()"
   ]
  },
  {
   "cell_type": "code",
   "execution_count": 9,
   "id": "6da46fd1",
   "metadata": {},
   "outputs": [],
   "source": [
    "def find_close_matches(string,list_of_strings):\n",
    "    pass"
   ]
  },
  {
   "cell_type": "code",
   "execution_count": 31,
   "id": "5cc52837",
   "metadata": {},
   "outputs": [],
   "source": [
    "path_to_jsonl_file = '../finetune/covid19_emergency_event/train.jsonl' \n",
    "\n",
    "df = pd.read_json(path_to_jsonl_file, lines=True)"
   ]
  },
  {
   "cell_type": "code",
   "execution_count": 33,
   "id": "d4845951",
   "metadata": {},
   "outputs": [
    {
     "name": "stdout",
     "output_type": "stream",
     "text": [
      "The corpus contains 3501 examples.\n"
     ]
    }
   ],
   "source": [
    "print('The corpus contains {example_n} examples.'.format(example_n = df.shape[0]))"
   ]
  },
  {
   "cell_type": "code",
   "execution_count": 34,
   "id": "6180d606",
   "metadata": {},
   "outputs": [
    {
     "name": "stderr",
     "output_type": "stream",
     "text": [
      "100%|███████████████████████████████████████| 3501/3501 [06:29<00:00,  8.99it/s]"
     ]
    },
    {
     "name": "stdout",
     "output_type": "stream",
     "text": [
      "CPU times: user 6min 18s, sys: 5.57 s, total: 6min 24s\n",
      "Wall time: 6min 29s\n"
     ]
    },
    {
     "name": "stderr",
     "output_type": "stream",
     "text": [
      "\n"
     ]
    }
   ],
   "source": [
    "%%time\n",
    "candidates = df.text.tolist()\n",
    "df['matches']=df.text.progress_apply(lambda x: difflib.get_close_matches(x, candidates, n=len(candidates),cutoff = 0.8))"
   ]
  },
  {
   "cell_type": "code",
   "execution_count": 35,
   "id": "b27af734",
   "metadata": {},
   "outputs": [
    {
     "data": {
      "text/html": [
       "<div>\n",
       "<style scoped>\n",
       "    .dataframe tbody tr th:only-of-type {\n",
       "        vertical-align: middle;\n",
       "    }\n",
       "\n",
       "    .dataframe tbody tr th {\n",
       "        vertical-align: top;\n",
       "    }\n",
       "\n",
       "    .dataframe thead th {\n",
       "        text-align: right;\n",
       "    }\n",
       "</style>\n",
       "<table border=\"1\" class=\"dataframe\">\n",
       "  <thead>\n",
       "    <tr style=\"text-align: right;\">\n",
       "      <th></th>\n",
       "      <th>text</th>\n",
       "      <th>event1</th>\n",
       "      <th>event2</th>\n",
       "      <th>event3</th>\n",
       "      <th>event4</th>\n",
       "      <th>event5</th>\n",
       "      <th>event6</th>\n",
       "      <th>event7</th>\n",
       "      <th>event8</th>\n",
       "      <th>matches</th>\n",
       "    </tr>\n",
       "  </thead>\n",
       "  <tbody>\n",
       "    <tr>\n",
       "      <th>0</th>\n",
       "      <td>que ce principe implique que lorsqu'un risque ...</td>\n",
       "      <td>False</td>\n",
       "      <td>False</td>\n",
       "      <td>False</td>\n",
       "      <td>False</td>\n",
       "      <td>False</td>\n",
       "      <td>False</td>\n",
       "      <td>False</td>\n",
       "      <td>False</td>\n",
       "      <td>[que ce principe implique que lorsqu'un risque...</td>\n",
       "    </tr>\n",
       "    <tr>\n",
       "      <th>1</th>\n",
       "      <td>Ai concessionari di servizi di trasporto aereo...</td>\n",
       "      <td>False</td>\n",
       "      <td>True</td>\n",
       "      <td>False</td>\n",
       "      <td>False</td>\n",
       "      <td>False</td>\n",
       "      <td>False</td>\n",
       "      <td>False</td>\n",
       "      <td>False</td>\n",
       "      <td>[Ai concessionari di servizi di trasporto aere...</td>\n",
       "    </tr>\n",
       "    <tr>\n",
       "      <th>2</th>\n",
       "      <td>VISTA la legge regionale 18 febbraio 2002, n. ...</td>\n",
       "      <td>False</td>\n",
       "      <td>False</td>\n",
       "      <td>False</td>\n",
       "      <td>False</td>\n",
       "      <td>False</td>\n",
       "      <td>False</td>\n",
       "      <td>False</td>\n",
       "      <td>False</td>\n",
       "      <td>[VISTA la legge regionale 18 febbraio 2002, n....</td>\n",
       "    </tr>\n",
       "    <tr>\n",
       "      <th>3</th>\n",
       "      <td>Voor de onder 4 tot en met 7 genoemde maatrege...</td>\n",
       "      <td>False</td>\n",
       "      <td>False</td>\n",
       "      <td>False</td>\n",
       "      <td>False</td>\n",
       "      <td>False</td>\n",
       "      <td>False</td>\n",
       "      <td>False</td>\n",
       "      <td>False</td>\n",
       "      <td>[Voor de onder 4 tot en met 7 genoemde maatreg...</td>\n",
       "    </tr>\n",
       "    <tr>\n",
       "      <th>4</th>\n",
       "      <td>2)ograniczenie obowiązku świadczenia pracy prz...</td>\n",
       "      <td>False</td>\n",
       "      <td>False</td>\n",
       "      <td>False</td>\n",
       "      <td>True</td>\n",
       "      <td>False</td>\n",
       "      <td>False</td>\n",
       "      <td>False</td>\n",
       "      <td>False</td>\n",
       "      <td>[2)ograniczenie obowiązku świadczenia pracy pr...</td>\n",
       "    </tr>\n",
       "  </tbody>\n",
       "</table>\n",
       "</div>"
      ],
      "text/plain": [
       "                                                text  event1  event2  event3  \\\n",
       "0  que ce principe implique que lorsqu'un risque ...   False   False   False   \n",
       "1  Ai concessionari di servizi di trasporto aereo...   False    True   False   \n",
       "2  VISTA la legge regionale 18 febbraio 2002, n. ...   False   False   False   \n",
       "3  Voor de onder 4 tot en met 7 genoemde maatrege...   False   False   False   \n",
       "4  2)ograniczenie obowiązku świadczenia pracy prz...   False   False   False   \n",
       "\n",
       "   event4  event5  event6  event7  event8  \\\n",
       "0   False   False   False   False   False   \n",
       "1   False   False   False   False   False   \n",
       "2   False   False   False   False   False   \n",
       "3   False   False   False   False   False   \n",
       "4    True   False   False   False   False   \n",
       "\n",
       "                                             matches  \n",
       "0  [que ce principe implique que lorsqu'un risque...  \n",
       "1  [Ai concessionari di servizi di trasporto aere...  \n",
       "2  [VISTA la legge regionale 18 febbraio 2002, n....  \n",
       "3  [Voor de onder 4 tot en met 7 genoemde maatreg...  \n",
       "4  [2)ograniczenie obowiązku świadczenia pracy pr...  "
      ]
     },
     "execution_count": 35,
     "metadata": {},
     "output_type": "execute_result"
    }
   ],
   "source": [
    "df.head()"
   ]
  },
  {
   "cell_type": "code",
   "execution_count": 54,
   "id": "6faa664a",
   "metadata": {
    "scrolled": false
   },
   "outputs": [
    {
     "name": "stdout",
     "output_type": "stream",
     "text": [
      "For the following sentence sentence:\n",
      "\n",
      " \t wprowadza się następujące zmiany: 1)w §2 :a)po ust.1dodaje się ust.1a wbrzmieniu:„1a.Kontrolę graniczną osób, przywróconą tymczasowo na okres, októrym mowa wust.1, przedłuża się na okres od dnia 25marca 2020r. do dnia 13kwietnia 2020r.” \n",
      "\n",
      "\n",
      "We have the following matches \n",
      "\n",
      "\n",
      "\t wprowadza się następujące zmiany: 1)w §2 :a)po ust.1dodaje się ust.1a wbrzmieniu:„1a.Kontrolę graniczną osób, przywróconą tymczasowo na okres, októrym mowa wust.1, przedłuża się na okres od dnia 25marca 2020r. do dnia 13kwietnia 2020r.”\n",
      "---------------\n"
     ]
    }
   ],
   "source": [
    "_id=1000\n",
    "print('For the following sentence sentence:\\n\\n','\\t',df.at[_id,'text'],'\\n\\n')\n",
    "print('We have the following matches','\\n\\n')\n",
    "for m in df.at[_id,'matches']:\n",
    "    print('\\t',m)\n",
    "    print('---------------')"
   ]
  },
  {
   "cell_type": "markdown",
   "id": "682d38d5",
   "metadata": {},
   "source": [
    "For the purpose of pretraining I propose we keep the longest example and remove all other cases"
   ]
  },
  {
   "cell_type": "code",
   "execution_count": 47,
   "id": "b8ad5c2f",
   "metadata": {},
   "outputs": [
    {
     "data": {
      "text/plain": [
       "[\"Vu l'avis des Ministres qui en ont délibéré en Conseil, donné le 10 juillet 2020;\",\n",
       " \"Vu l'avis des Ministres qui en ont délibéré en Conseil, donné le 17 avril 2020;\",\n",
       " \"Vu l'avis des Ministres qui en ont délibéré en Conseil, donné le 24 mars 2020 ;\",\n",
       " \"Vu l'avis des Ministres qui en ont délibéré en Conseil, donné le 15 mai 2020 ;\",\n",
       " \"Vu l'avis des Ministres qui en ont délibéré en Conseil, donné le 29 mai 2020 ;\"]"
      ]
     },
     "execution_count": 47,
     "metadata": {},
     "output_type": "execute_result"
    }
   ],
   "source": [
    "\n",
    "sorted(df.at[_id,'matches'],key=lambda x: len(x),reverse=True)"
   ]
  },
  {
   "cell_type": "code",
   "execution_count": 51,
   "id": "dbf916e5",
   "metadata": {},
   "outputs": [],
   "source": [
    "df_new = deepcopy(df)\n",
    "for i, _ in df.iterrows():\n",
    "    matches = df.at[i,'matches']\n",
    "    matches = sorted(matches,key=lambda x: len(x),reverse=True)\n",
    "    if len(matches)>1:\n",
    "        df_new = df_new[df_new.text.isin(matches[1:])==False]\n",
    "        "
   ]
  },
  {
   "cell_type": "code",
   "execution_count": 63,
   "id": "75ada1e3",
   "metadata": {},
   "outputs": [
    {
     "name": "stdout",
     "output_type": "stream",
     "text": [
      "The new corpus now contains 2694 examples.\n"
     ]
    }
   ],
   "source": [
    "print('The new corpus now contains {example_n} examples.'.format(example_n = df_new.shape[0]))"
   ]
  },
  {
   "cell_type": "markdown",
   "id": "5d67b974",
   "metadata": {},
   "source": [
    "Performing a similarity search should not yield any results"
   ]
  },
  {
   "cell_type": "code",
   "execution_count": 58,
   "id": "fc441fca",
   "metadata": {},
   "outputs": [
    {
     "name": "stderr",
     "output_type": "stream",
     "text": [
      "100%|███████████████████████████████████████| 2694/2694 [03:33<00:00, 12.62it/s]"
     ]
    },
    {
     "name": "stdout",
     "output_type": "stream",
     "text": [
      "CPU times: user 3min 28s, sys: 2.56 s, total: 3min 30s\n",
      "Wall time: 3min 33s\n"
     ]
    },
    {
     "name": "stderr",
     "output_type": "stream",
     "text": [
      "\n"
     ]
    }
   ],
   "source": [
    "%%time\n",
    "candidates = df_new.text.tolist()\n",
    "df_new['matches']=df_new.text.progress_apply(lambda x: difflib.get_close_matches(x, candidates, n=len(candidates),cutoff = 0.8))"
   ]
  },
  {
   "cell_type": "code",
   "execution_count": 62,
   "id": "ffb4cc2a",
   "metadata": {},
   "outputs": [
    {
     "data": {
      "text/html": [
       "<div>\n",
       "<style scoped>\n",
       "    .dataframe tbody tr th:only-of-type {\n",
       "        vertical-align: middle;\n",
       "    }\n",
       "\n",
       "    .dataframe tbody tr th {\n",
       "        vertical-align: top;\n",
       "    }\n",
       "\n",
       "    .dataframe thead th {\n",
       "        text-align: right;\n",
       "    }\n",
       "</style>\n",
       "<table border=\"1\" class=\"dataframe\">\n",
       "  <thead>\n",
       "    <tr style=\"text-align: right;\">\n",
       "      <th></th>\n",
       "      <th>text</th>\n",
       "      <th>event1</th>\n",
       "      <th>event2</th>\n",
       "      <th>event3</th>\n",
       "      <th>event4</th>\n",
       "      <th>event5</th>\n",
       "      <th>event6</th>\n",
       "      <th>event7</th>\n",
       "      <th>event8</th>\n",
       "      <th>matches</th>\n",
       "    </tr>\n",
       "  </thead>\n",
       "  <tbody>\n",
       "  </tbody>\n",
       "</table>\n",
       "</div>"
      ],
      "text/plain": [
       "Empty DataFrame\n",
       "Columns: [text, event1, event2, event3, event4, event5, event6, event7, event8, matches]\n",
       "Index: []"
      ]
     },
     "execution_count": 62,
     "metadata": {},
     "output_type": "execute_result"
    }
   ],
   "source": [
    "df_new[df_new.matches.apply(lambda x:len(x))>1]"
   ]
  },
  {
   "cell_type": "markdown",
   "id": "125bed92",
   "metadata": {},
   "source": [
    "## Notes\n",
    "- For very large datasets we might want to use a slightly different approach, because of the large data size which might not fit into memory\n"
   ]
  },
  {
   "cell_type": "code",
   "execution_count": null,
   "id": "b3250c10",
   "metadata": {},
   "outputs": [],
   "source": []
  }
 ],
 "metadata": {
  "kernelspec": {
   "display_name": "Python 3 (ipykernel)",
   "language": "python",
   "name": "python3"
  },
  "language_info": {
   "codemirror_mode": {
    "name": "ipython",
    "version": 3
   },
   "file_extension": ".py",
   "mimetype": "text/x-python",
   "name": "python",
   "nbconvert_exporter": "python",
   "pygments_lexer": "ipython3",
   "version": "3.9.12"
  }
 },
 "nbformat": 4,
 "nbformat_minor": 5
}
